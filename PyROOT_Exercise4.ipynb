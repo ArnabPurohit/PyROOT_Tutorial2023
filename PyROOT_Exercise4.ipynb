{
 "cells": [
  {
   "cell_type": "code",
   "execution_count": 1,
   "id": "c7b95b5e",
   "metadata": {},
   "outputs": [
    {
     "name": "stdout",
     "output_type": "stream",
     "text": [
      "Welcome to JupyROOT 6.28/00\n"
     ]
    }
   ],
   "source": [
    "import ROOT\n",
    "import numpy as np"
   ]
  },
  {
   "cell_type": "code",
   "execution_count": 2,
   "id": "b98e2bc4",
   "metadata": {},
   "outputs": [],
   "source": [
    "# Open the ROOT file\n",
    "file = ROOT.TFile(\"pyROOT_exercise1.root\", \"READ\")\n",
    "\n",
    "# Access the TTree object containing the particle data\n",
    "tree = file.Get(\"tree\")\n",
    "\n",
    "# Create a histogram for the transverse momentum distribution\n",
    "histogram = ROOT.TH1F(\"mass_distribution\", \"Invariant Mass Distribution\", 100, 0, 100)\n",
    "\n",
    "# Loop over the events in the TTree\n",
    "for event in tree:\n",
    "    # Access the relevant particle variables from the event\n",
    "    px = event.px\n",
    "    py = event.py\n",
    "    pz = event.pz\n",
    "    energy = event.energy\n",
    "    pt = [(x**2 + y**2)**0.5 for x, y in zip(px, py)]\n",
    "    pt_arr = np.array(pt)\n",
    "    # Find the indices of the two highest pt particles\n",
    "    indices = np.argsort(pt_arr)[-2:]\n",
    "    #print(pt[indices[0]])\n",
    "    particle1 = ROOT.TLorentzVector()\n",
    "    particle2 = ROOT.TLorentzVector()\n",
    "    if(len(indices)>1):\n",
    "        #print(pt[0], pt[1])\n",
    "        particle1.SetPxPyPzE(px[int(indices[0])], py[int(indices[0])], pz[int(indices[0])], energy[int(indices[0])])\n",
    "        particle2.SetPxPyPzE(px[int(indices[1])], py[int(indices[1])], pz[int(indices[1])], energy[int(indices[1])])\n",
    "        inv_mass = (particle1 + particle2).M()\n",
    "    # Fill the histogram with the Mass values\n",
    "        histogram.Fill(inv_mass)"
   ]
  },
  {
   "cell_type": "code",
   "execution_count": 3,
   "id": "719d4155",
   "metadata": {},
   "outputs": [
    {
     "name": "stdout",
     "output_type": "stream",
     "text": [
      " FCN=22.8726 FROM MIGRAD    STATUS=CONVERGED      62 CALLS          63 TOTAL\n",
      "                     EDM=2.30676e-09    STRATEGY= 1      ERROR MATRIX ACCURATE \n",
      "  EXT PARAMETER                                   STEP         FIRST   \n",
      "  NO.   NAME      VALUE            ERROR          SIZE      DERIVATIVE \n",
      "   1  Constant     1.34466e+02   5.60385e+00   1.02681e-02  -2.67162e-06\n",
      "   2  Mean         1.92163e+01   9.46282e-02   2.23100e-04   7.13437e-04\n",
      "   3  Sigma        2.89999e+00   7.84875e-02   1.62501e-05   7.52818e-04\n"
     ]
    },
    {
     "name": "stderr",
     "output_type": "stream",
     "text": [
      "Info in <TCanvas::Print>: png file mass_distribution.png has been created\n"
     ]
    },
    {
     "data": {
      "image/png": "[encoded data removed]",
      "text/plain": [
       "<IPython.core.display.Image object>"
      ]
     },
     "metadata": {},
     "output_type": "display_data"
    }
   ],
   "source": [
    "# Create a canvas to draw the histogram\n",
    "canvas = ROOT.TCanvas(\"canvas\", \"Invariant Mass Distribution\", 800, 600)\n",
    "histogram.SetStats(0)\n",
    "# Draw the histogram\n",
    "histogram.Draw()\n",
    "\n",
    "# Set the canvas style and attributes\n",
    "canvas.SetFillColor(0)\n",
    "canvas.SetBorderMode(0)\n",
    "canvas.SetBorderSize(2)\n",
    "canvas.SetFrameBorderMode(0)\n",
    "\n",
    "# Fit the histogram with a Gaussian function\n",
    "fit_function = ROOT.TF1(\"gaussian_fit\", \"gaus\", 0, 100)\n",
    "histogram.Fit(fit_function)\n",
    "\n",
    "# Customize the plot if desired (e.g., axis labels, title, etc.)\n",
    "histogram.GetXaxis().SetTitle(\"Invariant Mass [GeV]\")\n",
    "histogram.GetYaxis().SetTitle(\"Counts\")\n",
    "histogram.SetTitle(\"Invariant Mass Distribution\")\n",
    "\n",
    "# Update the canvas\n",
    "canvas.Update()\n",
    "\n",
    "# Save the plot as an image file\n",
    "canvas.SaveAs(\"mass_distribution.png\")\n",
    "\n",
    "canvas.Draw()"
   ]
  },
  {
   "cell_type": "code",
   "execution_count": 4,
   "id": "5aafad50",
   "metadata": {},
   "outputs": [
    {
     "data": {
      "image/png": "[encoded data removed]",
      "text/plain": [
       "<IPython.core.display.Image object>"
      ]
     },
     "metadata": {},
     "output_type": "display_data"
    }
   ],
   "source": [
    "# Get the fit information\n",
    "fit_info = f\"Chi2/NDF: {fit_function.GetChisquare():.2f}/{fit_function.GetNDF()}\"\n",
    "fit_info += f\"Mean: {fit_function.GetParameter(1):.2f} ± {fit_function.GetParError(1):.2f}\"\n",
    "fit_info += f\"Standard Deviation: {fit_function.GetParameter(2):.2f} ± {fit_function.GetParError(2):.2f}\"\n",
    "\n",
    "# Add the fit information box to the canvas\n",
    "info_box = ROOT.TPaveText(0.3, 0.7, 0.9, 0.9, \"NDC\")\n",
    "info_box.SetFillColor(0)\n",
    "info_box.SetFillStyle(0)\n",
    "info_box.SetBorderSize(0)\n",
    "info_box.SetTextAlign(12)\n",
    "info_box.SetTextSize(0.03)\n",
    "info_box.AddText(fit_info)\n",
    "info_box.Draw()\n",
    "\n",
    "canvas.Update()\n",
    "canvas.Draw()"
   ]
  },
  {
   "cell_type": "code",
   "execution_count": null,
   "id": "6a32669d",
   "metadata": {},
   "outputs": [],
   "source": []
  },
  {
   "cell_type": "code",
   "execution_count": 5,
   "id": "4f401d6c",
   "metadata": {},
   "outputs": [],
   "source": [
    "# Close the ROOT file\n",
    "file.Close()"
   ]
  }
 ],
 "metadata": {
  "kernelspec": {
   "display_name": "macroot",
   "language": "python",
   "name": "macroot"
  },
  "language_info": {
   "codemirror_mode": {
    "name": "ipython",
    "version": 3
   },
   "file_extension": ".py",
   "mimetype": "text/x-python",
   "name": "python",
   "nbconvert_exporter": "python",
   "pygments_lexer": "ipython3",
   "version": "3.11.4"
  }
 },
 "nbformat": 4,
 "nbformat_minor": 5
}
