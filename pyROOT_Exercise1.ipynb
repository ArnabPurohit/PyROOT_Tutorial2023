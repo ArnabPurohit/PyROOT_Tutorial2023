{
 "cells": [
  {
   "cell_type": "code",
   "execution_count": 1,
   "id": "9cdf586d",
   "metadata": {},
   "outputs": [
    {
     "name": "stdout",
     "output_type": "stream",
     "text": [
      "Welcome to JupyROOT 6.28/00\n"
     ]
    }
   ],
   "source": [
    "import ROOT as rt\n",
    "import time"
   ]
  },
  {
   "cell_type": "code",
   "execution_count": 2,
   "id": "a8b40342",
   "metadata": {},
   "outputs": [],
   "source": [
    "start_time = time.time()"
   ]
  },
  {
   "cell_type": "code",
   "execution_count": 3,
   "id": "feed64da",
   "metadata": {},
   "outputs": [
    {
     "data": {
      "text/plain": [
       "<cppyy.gbl.TBranchElement object at 0x15d840180>"
      ]
     },
     "execution_count": 3,
     "metadata": {},
     "output_type": "execute_result"
    }
   ],
   "source": [
    "#Creating a ROOT file to store the TTree\n",
    "file = rt.TFile(\"pyROOT_exercise1.root\", \"RECREATE\")\n",
    "\n",
    "#Create a TTree\n",
    "tree = rt.TTree(\"tree\", \"Exercise 1\")\n",
    "\n",
    "#Create variables to store information\n",
    "px = rt.std.vector('float')()\n",
    "py = rt.std.vector('float')()\n",
    "pz = rt.std.vector('float')()\n",
    "energy = rt.std.vector('float')()\n",
    "\n",
    "# Create branches in the TTree for each variable\n",
    "tree.Branch(\"px\", px)\n",
    "tree.Branch(\"py\", py)\n",
    "tree.Branch(\"pz\", pz)\n",
    "tree.Branch(\"energy\", energy)"
   ]
  },
  {
   "cell_type": "code",
   "execution_count": 4,
   "id": "340e8fab",
   "metadata": {},
   "outputs": [
    {
     "name": "stdout",
     "output_type": "stream",
     "text": [
      "Total time taken is 13.734313011169434 sec\n"
     ]
    }
   ],
   "source": [
    "# Generate dummy data for the collisions\n",
    "num_events = 1000\n",
    "for i in range(num_events):\n",
    "    px.clear()\n",
    "    py.clear()\n",
    "    pz.clear()\n",
    "    energy.clear()\n",
    "    \n",
    "    # Generate random values for each particle varible\n",
    "    for j in range(i+1):\n",
    "        px.push_back(rt.gRandom.Gaus(0, 1))\n",
    "        py.push_back(rt.gRandom.Gaus(0, 1))\n",
    "        pz.push_back(rt.gRandom.Gaus(0, 1))\n",
    "        energy.push_back(rt.gRandom.Gaus(10, 2))\n",
    "    #Fill the TTree with data\n",
    "    tree.Fill()\n",
    "\n",
    "#Write the TTree to the ROOT file\n",
    "file.Write()\n",
    "\n",
    "#Close the ROOT file\n",
    "file.Close()\n",
    "\n",
    "end_time = time.time()\n",
    "\n",
    "total_time = end_time - start_time\n",
    "print(\"Total time taken is\", total_time, \"sec\")"
   ]
  },
  {
   "cell_type": "code",
   "execution_count": null,
   "id": "86504aec",
   "metadata": {},
   "outputs": [],
   "source": []
  }
 ],
 "metadata": {
  "kernelspec": {
   "display_name": "macroot",
   "language": "python",
   "name": "macroot"
  },
  "language_info": {
   "codemirror_mode": {
    "name": "ipython",
    "version": 3
   },
   "file_extension": ".py",
   "mimetype": "text/x-python",
   "name": "python",
   "nbconvert_exporter": "python",
   "pygments_lexer": "ipython3",
   "version": "3.11.4"
  }
 },
 "nbformat": 4,
 "nbformat_minor": 5
}
